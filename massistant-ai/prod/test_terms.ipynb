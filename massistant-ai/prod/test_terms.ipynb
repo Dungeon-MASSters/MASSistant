{
 "cells": [
  {
   "cell_type": "code",
   "execution_count": 1,
   "metadata": {},
   "outputs": [],
   "source": [
    "with open('/home/prof_evaluation/MASSistant/massistant-ai/research/data/text.txt', mode='r') as f:\n",
    "    data = f.read()"
   ]
  },
  {
   "cell_type": "code",
   "execution_count": 2,
   "metadata": {},
   "outputs": [
    {
     "name": "stderr",
     "output_type": "stream",
     "text": [
      "/home/prof_evaluation/miniconda3/envs/mass/lib/python3.9/site-packages/tqdm/auto.py:21: TqdmWarning: IProgress not found. Please update jupyter and ipywidgets. See https://ipywidgets.readthedocs.io/en/stable/user_install.html\n",
      "  from .autonotebook import tqdm as notebook_tqdm\n",
      "2023-11-25 08:58:11 INFO: Checking for updates to resources.json in case models have been updated.  Note: this behavior can be turned off with download_method=None or download_method=DownloadMethod.REUSE_RESOURCES\n",
      "Downloading https://raw.githubusercontent.com/stanfordnlp/stanza-resources/main/resources_1.6.0.json: 367kB [00:00, 12.3MB/s]                    \n",
      "2023-11-25 08:58:13 INFO: Loading these models for language: ru (Russian):\n",
      "==================================\n",
      "| Processor | Package            |\n",
      "----------------------------------\n",
      "| tokenize  | syntagrus          |\n",
      "| pos       | syntagrus_charlm   |\n",
      "| lemma     | syntagrus_nocharlm |\n",
      "| depparse  | syntagrus_charlm   |\n",
      "==================================\n",
      "\n",
      "2023-11-25 08:58:13 INFO: Using device: cuda\n",
      "2023-11-25 08:58:13 INFO: Loading: tokenize\n",
      "2023-11-25 08:58:17 INFO: Loading: pos\n",
      "2023-11-25 08:58:18 INFO: Loading: lemma\n",
      "2023-11-25 08:58:18 INFO: Loading: depparse\n",
      "2023-11-25 08:58:19 INFO: Done loading processors!\n"
     ]
    }
   ],
   "source": [
    "from keywords import Keywords\n",
    "from term_extraction import TermExtraction\n",
    "from syntax_analyzer import SyntaxAnalyzer\n",
    "\n",
    "sa = SyntaxAnalyzer()\n",
    "kw = Keywords(sa)\n",
    "te = TermExtraction(sa)"
   ]
  },
  {
   "cell_type": "code",
   "execution_count": 3,
   "metadata": {},
   "outputs": [
    {
     "name": "stderr",
     "output_type": "stream",
     "text": [
      "100%|██████████| 6/6 [00:00<00:00, 16.19it/s]\n",
      "/home/prof_evaluation/miniconda3/envs/mass/lib/python3.9/site-packages/wikipedia/wikipedia.py:389: GuessedAtParserWarning: No parser was explicitly specified, so I'm using the best available HTML parser for this system (\"html.parser\"). This usually isn't a problem, but if you run this code on another system, or in a different virtual environment, it may use a different parser and behave differently.\n",
      "\n",
      "The code that caused this warning is on line 389 of the file /home/prof_evaluation/miniconda3/envs/mass/lib/python3.9/site-packages/wikipedia/wikipedia.py. To get rid of this warning, pass the additional argument 'features=\"html.parser\"' to the BeautifulSoup constructor.\n",
      "\n",
      "  lis = BeautifulSoup(html).find_all('li')\n",
      "/home/prof_evaluation/miniconda3/envs/mass/lib/python3.9/site-packages/transformers/pipelines/base.py:1101: UserWarning: You seem to be using the pipelines sequentially on GPU. In order to maximize efficiency please use a dataset\n",
      "  warnings.warn(\n"
     ]
    },
    {
     "data": {
      "text/plain": [
       "[{'term': 'python',\n",
       "  'meaning': 'Python — высокоуровневый язык программирования общего назначения с динамической строгой типизацией и автоматическим управлением памятью , ориентированный на повышение производительности разработчика , читаемости кода и его качества , а также на обеспечение переносимости написанных на нём программ .',\n",
       "  'timestamp': ''},\n",
       " {'term': 'язык интерпретируемый',\n",
       "  'meaning': 'Интерпретируемый язык программирования — язык программирования , исходный код на котором выполняется методом интерпретации .',\n",
       "  'timestamp': ''},\n",
       " {'term': 'код',\n",
       "  'meaning': 'Код — взаимно однозначное отображение конечного упорядоченного множества символов , принадлежащих некоторому конечному алфавиту , на иное , не обязательно упорядоченное , как правило более обширное множество символов для кодирования передачи , хранения или преобразования информации .',\n",
       "  'timestamp': ''},\n",
       " {'term': 'искусственный интеллект',\n",
       "  'meaning': 'Иску́сственный интелле́кт ; наука и технология создания интеллектуальных машин , особенно интеллектуальных компьютерных программ .',\n",
       "  'timestamp': ''},\n",
       " {'term': 'машинное обучение',\n",
       "  'meaning': 'Машинное обучение — класс методов искусственного интеллекта , характерной чертой которых является не прямое решение задачи , а обучение за счёт применения решений множества сходных задач .',\n",
       "  'timestamp': ''},\n",
       " {'term': 'проект',\n",
       "  'meaning': '« Проект А » — гонконгский кинофильм 1983 года с участием Джеки Чана в главной роли .',\n",
       "  'timestamp': ''},\n",
       " {'term': 'переменная',\n",
       "  'meaning': 'Переме́нная в императивном программировании — именованная , либо адресуемая иным способом абстрактная /виртуальная или физическая память .',\n",
       "  'timestamp': ''},\n",
       " {'term': 'ide pycharm',\n",
       "  'meaning': 'PyCharm — это кроссплатформенная интегрированная среда разработки для языка программирования Python , разработанная компанией JetBrains на основе IntelliJ IDEA .',\n",
       "  'timestamp': ''},\n",
       " {'term': 'интерпретатор',\n",
       "  'meaning': 'Интерпрета́тор , выполняющая интерпретацию .',\n",
       "  'timestamp': ''},\n",
       " {'term': 'ide',\n",
       "  'meaning': 'Ruby — динамический , рефлективный , интерпретируемый высокоуровневый язык программирования .',\n",
       "  'timestamp': ''},\n",
       " {'term': 'интерпрета',\n",
       "  'meaning': 'Иностранный корреспондент — журналист , который освещает события из-за рубежа для прессы своей страны .',\n",
       "  'timestamp': ''},\n",
       " {'term': 'hello world',\n",
       "  'meaning': '« Hello , world ! » — программа , результатом работы которой является вывод на экран или иное устройство фразы « Hello , world ! »',\n",
       "  'timestamp': ''},\n",
       " {'term': 'текстовый редактор',\n",
       "  'meaning': 'Те́кстовый реда́ктор — самостоятельная компьютерная программа или компонент программного комплекса , предназначенная для создания и изменения текстовых данных в общем и текстовых файлов , в частности .',\n",
       "  'timestamp': ''},\n",
       " {'term': 'sublime text',\n",
       "  'meaning': 'Sublime Text — проприетарный текстовый редактор .',\n",
       "  'timestamp': ''},\n",
       " {'term': 'принт hello world', 'meaning': 'Франц Ройтер .', 'timestamp': ''},\n",
       " {'term': 'example', 'meaning': 'Example .', 'timestamp': ''},\n",
       " {'term': 'варианты', 'meaning': 'Вариа́нт .', 'timestamp': ''},\n",
       " {'term': 'инструменты',\n",
       "  'meaning': 'Инстру́ме́нт — технологическая оснастка , которая воздействует на предметы труда и изменяет их , предмет , орудие для производства каких-нибудь работ .',\n",
       "  'timestamp': ''},\n",
       " {'term': 'константа',\n",
       "  'meaning': 'Конста́нта в программировании — способ адресации данных , изменение которых рассматриваемой программой не предполагается или запрещается .',\n",
       "  'timestamp': ''},\n",
       " {'term': 'python пер',\n",
       "  'meaning': 'Python — высокоуровневый язык программирования общего назначения с динамической строгой типизацией и автоматическим управлением памятью , ориентированный на повышение производительности разработчика , читаемости кода и его качества , а также на обеспечение переносимости написанных на нём программ .',\n",
       "  'timestamp': ''},\n",
       " {'term': 'значение', 'meaning': 'Значе́ние :', 'timestamp': ''},\n",
       " {'term': 'macos',\n",
       "  'meaning': 'macOS — проприетарная операционная система компании Apple .',\n",
       "  'timestamp': ''},\n",
       " {'term': 'функция input',\n",
       "  'meaning': 'stdio.h , написанного Майком Леском из Bell Labs в начале 1970-х .',\n",
       "  'timestamp': ''},\n",
       " {'term': 'консоль',\n",
       "  'meaning': 'Массив — структура данных , хранящая набор значений значения из некоторого заданного непрерывного диапазона .',\n",
       "  'timestamp': ''},\n",
       " {'term': 'python консоль',\n",
       "  'meaning': 'CGI — спецификация интерфейса , используемого внешней программой для связи с веб-сервером .',\n",
       "  'timestamp': ''},\n",
       " {'term': 'python интерпретатор',\n",
       "  'meaning': 'Python — высокоуровневый язык программирования общего назначения с динамической строгой типизацией и автоматическим управлением памятью , ориентированный на повышение производительности разработчика , читаемости кода и его качества , а также на обеспечение переносимости написанных на нём программ .',\n",
       "  'timestamp': ''},\n",
       " {'term': 'literal',\n",
       "  'meaning': 'Каббала́ — религиозно - мистическое , оккультное и эзотерическое течение в талмудическом иудаизме , появившееся в XII веке и получившее распространение в XVI веке .',\n",
       "  'timestamp': ''},\n",
       " {'term': 'переменные',\n",
       "  'meaning': 'Переме́нная в императивном программировании — именованная , либо адресуемая иным способом абстрактная /виртуальная или физическая память .',\n",
       "  'timestamp': ''},\n",
       " {'term': 'пользовательские данные',\n",
       "  'meaning': 'HTTPS — расширение протокола HTTP для поддержки шифрования в целях повышения безопасности .',\n",
       "  'timestamp': ''}]"
      ]
     },
     "execution_count": 3,
     "metadata": {},
     "output_type": "execute_result"
    }
   ],
   "source": [
    "keys = kw.get_keywords(data, 1)\n",
    "te.get_term_meanings(data, keys)"
   ]
  }
 ],
 "metadata": {
  "kernelspec": {
   "display_name": "mass",
   "language": "python",
   "name": "python3"
  },
  "language_info": {
   "codemirror_mode": {
    "name": "ipython",
    "version": 3
   },
   "file_extension": ".py",
   "mimetype": "text/x-python",
   "name": "python",
   "nbconvert_exporter": "python",
   "pygments_lexer": "ipython3",
   "version": "3.9.18"
  }
 },
 "nbformat": 4,
 "nbformat_minor": 2
}
